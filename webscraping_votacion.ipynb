{
 "cells": [
  {
   "cell_type": "code",
   "execution_count": 1,
   "metadata": {},
   "outputs": [],
   "source": [
    "import pandas as pd\n",
    "import time\n",
    "import re\n",
    "import pathlib\n",
    "import os\n",
    "import sys\n",
    "from selenium import webdriver\n",
    "from selenium.webdriver.support.ui import WebDriverWait\n",
    "from selenium.webdriver.support import expected_conditions as EC\n",
    "from selenium.webdriver.common.by import By"
   ]
  },
  {
   "cell_type": "code",
   "execution_count": 2,
   "metadata": {},
   "outputs": [
    {
     "name": "stdout",
     "output_type": "stream",
     "text": [
      "Introducir el número del distrito en el que desea revisar la votación (1-28)\n",
      "2\n"
     ]
    }
   ],
   "source": [
    "distrito = int(input('Indique el número del distrito en el que desea revisar la votación (1-28): '))\n",
    "df = pd.read_csv(f'Distrito{distrito}\\Dist{distrito}_Pleb2020.csv')"
   ]
  },
  {
   "cell_type": "code",
   "execution_count": 3,
   "metadata": {},
   "outputs": [],
   "source": [
    "options = webdriver.ChromeOptions()\n",
    "options.add_argument('--start-maximized')\n",
    "options.add_argument('--disable-extensions')"
   ]
  },
  {
   "cell_type": "code",
   "execution_count": 4,
   "metadata": {},
   "outputs": [],
   "source": [
    "driver_path = os.path.join(pathlib.Path().absolute(), 'chrome_driver\\\\chromedriver.exe')\n",
    "driver = webdriver.Chrome(executable_path = driver_path, options=options)\n",
    "driver.get('https://pv.servelelecciones.cl/')"
   ]
  },
  {
   "cell_type": "code",
   "execution_count": 5,
   "metadata": {},
   "outputs": [
    {
     "name": "stdout",
     "output_type": "stream",
     "text": [
      "Wall time: 10min 53s\n"
     ]
    }
   ],
   "source": [
    "%%time\n",
    "\n",
    "#PESTAÑA SUPERIOR: \"Participación\"\n",
    "step1 = '/html/body/div[2]/div[1]/div[1]/menu-elecciones/div/nav/div/div[2]/ul/li[1]/a'\n",
    "WebDriverWait(driver, 30).until(EC.element_to_be_clickable((By.XPATH, step1))).click()\n",
    "\n",
    "#PANEL LATERAL IZQUIERDO: \"En Chile\"\n",
    "step2 = '/html/body/div[2]/div[1]/div[2]/div/ul/li[3]/a'\n",
    "WebDriverWait(driver, 30).until(EC.element_to_be_clickable((By.XPATH, step2))).click()\n",
    "\n",
    "#DISTRITO\n",
    "step3 = f'/html/body/div[2]/div[1]/div[2]/div/form/select[6]/option[{distrito + 1}]'\n",
    "WebDriverWait(driver, 30).until(EC.element_to_be_clickable((By.XPATH, step3))).click()\n",
    "\n",
    "\n",
    "def Comuna(df):\n",
    "    return df['COMUNA'].unique()\n",
    "\n",
    "def Circuns(df, i):\n",
    "    return df.loc[(df['COMUNA']==Comuna(df)[i])]['CIRCUNSCRIPCION'].unique()\n",
    "\n",
    "def Colegio(df, i, j):\n",
    "    return df.loc[(df['COMUNA']==Comuna(df)[i]) & (df['CIRCUNSCRIPCION']==Circuns(df, i)[j])]['COLEGIO'].unique()\n",
    "\n",
    "def Mesa(df, i, j, k):\n",
    "    return df.loc[(df['COMUNA']==Comuna(df)[i]) & (df['CIRCUNSCRIPCION']==Circuns(df, i)[j]) & (df['COLEGIO']==Colegio(df, i, j)[k])]['MESA'].unique()\n",
    "\n",
    "#COMUNA\n",
    "for m in range(len(Comuna(df))):\n",
    "    time.sleep(3)\n",
    "    step4 = f'/html/body/div[2]/div[1]/div[2]/div/form/select[9]/option[{m+2}]'\n",
    "    WebDriverWait(driver, 30).until(EC.element_to_be_clickable((By.XPATH, step4))).click()\n",
    "    #CIRCUNSCRIPCION ELECTORAL\n",
    "    for j in range(len(Circuns(df, m))):\n",
    "        time.sleep(3)\n",
    "        step5 = f'/html/body/div[2]/div[1]/div[2]/div/form/select[10]/option[{j+2}]'\n",
    "        WebDriverWait(driver, 30).until(EC.element_to_be_clickable((By.XPATH, step5))).click()\n",
    "        #COLEGIO\n",
    "        for k in range(len(Colegio(df, m, j))):\n",
    "            #time.sleep(3)\n",
    "            step6 = f'/html/body/div[2]/div[1]/div[2]/div/form/select[11]/option[{k+2}]'\n",
    "            WebDriverWait(driver, 30).until(EC.element_to_be_clickable((By.XPATH, step6))).click()\n",
    "            time.sleep(4)\n",
    "            #MESA\n",
    "            for q in range(len(Mesa(df, m, j, k))):\n",
    "                step7 = f'/html/body/div[2]/div[1]/div[2]/div/form/select[12]/option[{q+2}]'\n",
    "                WebDriverWait(driver, 30).until(EC.element_to_be_clickable((By.XPATH, step7))).click()        \n",
    "                time.sleep(0.3)\n",
    "                df3 = pd.DataFrame(re.split(\"(\\n)\", driver.find_element_by_xpath('/html/body/div[2]/div[2]/div[4]/dynamic-table/div/table/tbody[1]').text))\n",
    "                df3 = df3[df3 != '\\n'].dropna(axis=0).reset_index(drop=True)\n",
    "                df3[0] = df3[0].apply(lambda x: \"\".join(re.split(\"( )\", x)))\n",
    "                df3 = df3[0].str.split(expand=True)\n",
    "                df.loc[(df['MESA'] == Mesa(df, m, j, k)[q]) & (df['CIRCUNSCRIPCION'] == Circuns(df, m)[j]), 'APRUEBO'] = df3[1][0]\n",
    "                df.loc[(df['MESA'] == Mesa(df, m, j, k)[q]) & (df['CIRCUNSCRIPCION'] == Circuns(df, m)[j]), 'RECHAZO'] = df3[1][1]"
   ]
  },
  {
   "cell_type": "code",
   "execution_count": 6,
   "metadata": {},
   "outputs": [
    {
     "name": "stdout",
     "output_type": "stream",
     "text": [
      "<class 'pandas.core.frame.DataFrame'>\n",
      "RangeIndex: 865 entries, 0 to 864\n",
      "Data columns (total 10 columns):\n",
      " #   Column           Non-Null Count  Dtype  \n",
      "---  ------           --------------  -----  \n",
      " 0   MESA             865 non-null    object \n",
      " 1   TOTALMESAS       865 non-null    int64  \n",
      " 2   ELECTORES        865 non-null    int64  \n",
      " 3   EMITIDOS         865 non-null    int64  \n",
      " 4   PORCENTAJE       865 non-null    float64\n",
      " 5   COLEGIO          865 non-null    object \n",
      " 6   COMUNA           865 non-null    object \n",
      " 7   CIRCUNSCRIPCION  865 non-null    object \n",
      " 8   APRUEBO          865 non-null    object \n",
      " 9   RECHAZO          865 non-null    object \n",
      "dtypes: float64(1), int64(3), object(6)\n",
      "memory usage: 67.7+ KB\n"
     ]
    }
   ],
   "source": [
    "df.info()"
   ]
  },
  {
   "cell_type": "code",
   "execution_count": 7,
   "metadata": {},
   "outputs": [],
   "source": [
    "df['APRUEBO'] = df['APRUEBO'].astype(int)\n",
    "df['RECHAZO'] = df['RECHAZO'].astype(int)"
   ]
  },
  {
   "cell_type": "code",
   "execution_count": 8,
   "metadata": {},
   "outputs": [],
   "source": [
    "df.to_csv(f'Distrito{distrito}\\Dist{distrito}_Pleb2020_Votacion.csv', index=False)"
   ]
  }
 ],
 "metadata": {
  "kernelspec": {
   "display_name": "Python 3",
   "language": "python",
   "name": "python3"
  },
  "language_info": {
   "codemirror_mode": {
    "name": "ipython",
    "version": 3
   },
   "file_extension": ".py",
   "mimetype": "text/x-python",
   "name": "python",
   "nbconvert_exporter": "python",
   "pygments_lexer": "ipython3",
   "version": "3.7.4"
  }
 },
 "nbformat": 4,
 "nbformat_minor": 4
}
